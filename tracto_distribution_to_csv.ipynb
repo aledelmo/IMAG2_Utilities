{
 "cells": [
  {
   "cell_type": "code",
   "execution_count": 1,
   "metadata": {
    "pycharm": {
     "is_executing": true
    }
   },
   "outputs": [],
   "source": [
    "%load_ext autoreload\n",
    "%autoreload 2\n",
    "\n",
    "import os\n",
    "import sys\n",
    "\n",
    "import pandas as pd\n",
    "pd.set_option(\"display.max_rows\", 120)\n",
    "pd.set_option(\"display.max_columns\", 120)\n",
    "\n",
    "import seaborn as sns\n",
    "sns.set_context('notebook')\n",
    "sns.set(style=\"whitegrid\", font_scale=1.5)\n",
    "sns.despine()\n",
    "sns.set_color_codes()\n",
    "\n",
    "import matplotlib.pyplot as plt\n",
    "plt.xlim(0, 1)\n",
    "plt.ylim(0, None)\n",
    "from matplotlib.ticker import MaxNLocator\n",
    "%matplotlib inline\n",
    "%config InlineBackend.figure_format = 'retina'\n",
    "plt.rcParams['figure.figsize'] = [20, 5]\n",
    "\n",
    "from IPython.core.interactiveshell import InteractiveShell\n",
    "InteractiveShell.ast_node_interactivity = \"all\"\n",
    "\n",
    "import logging\n",
    "logging.basicConfig(level=logging.INFO, stream=sys.stdout)\n",
    "\n",
    "import vtk\n",
    "import numpy as np\n",
    "import nibabel as nib\n",
    "from six import iteritems\n",
    "from scipy.stats import norm\n",
    "from nibabel.affines import apply_affine\n",
    "from vtk.util import numpy_support as ns\n",
    "from dipy.tracking.streamline import values_from_volume"
   ]
  },
  {
   "cell_type": "code",
   "execution_count": 2,
   "metadata": {},
   "outputs": [],
   "source": [
    "main_folder = '/Users/imag2/Dropbox/IMAG2/MAR/'"
   ]
  },
  {
   "cell_type": "code",
   "execution_count": 3,
   "metadata": {},
   "outputs": [],
   "source": [
    "def load_nii(fname):\n",
    "    img = nib.load(fname)\n",
    "    return img.get_fdata(), img.affine\n",
    "\n",
    "def read_vtk(filename):\n",
    "    if filename.endswith('xml') or filename.endswith('vtp'):\n",
    "        polydata_reader = vtk.vtkXMLPolyDataReader()\n",
    "    else:\n",
    "        polydata_reader = vtk.vtkPolyDataReader()\n",
    "\n",
    "    polydata_reader.SetFileName(filename)\n",
    "    polydata_reader.Update()\n",
    "\n",
    "    polydata = polydata_reader.GetOutput()\n",
    "\n",
    "    return vtkpolydata_to_tracts(polydata)\n",
    "\n",
    "def vtkpolydata_to_tracts(polydata):\n",
    "    result = {'lines': ns.vtk_to_numpy(polydata.GetLines().GetData()),\n",
    "              'points': ns.vtk_to_numpy(polydata.GetPoints().GetData()),\n",
    "              'numberOfLines': polydata.GetNumberOfLines()\n",
    "             }\n",
    "\n",
    "    data = {}\n",
    "    if polydata.GetPointData().GetScalars():\n",
    "        data['ActiveScalars'] = polydata.GetPointData().GetScalars().GetName()\n",
    "    if polydata.GetPointData().GetVectors():\n",
    "        data['ActiveVectors'] = polydata.GetPointData().GetVectors().GetName()\n",
    "    if polydata.GetPointData().GetTensors():\n",
    "        data['ActiveTensors'] = polydata.GetPointData().GetTensors().GetName()\n",
    "\n",
    "    for i in range(polydata.GetPointData().GetNumberOfArrays()):\n",
    "        array = polydata.GetPointData().GetArray(i)\n",
    "        np_array = ns.vtk_to_numpy(array)\n",
    "        if np_array.ndim == 1:\n",
    "            np_array = np_array.reshape(len(np_array), 1)\n",
    "        data[polydata.GetPointData().GetArrayName(i)] = np_array\n",
    "\n",
    "    result['pointData'] = data\n",
    "\n",
    "    tracts, data = vtkpolydata_dictionary_to_tracts_and_data(result)\n",
    "    return tracts, data\n",
    "\n",
    "def vtkpolydata_dictionary_to_tracts_and_data(dictionary):\n",
    "    dictionary_keys = {'lines', 'points', 'numberOfLines'}\n",
    "    if not dictionary_keys.issubset(dictionary):\n",
    "        raise ValueError(\"Dictionary must have the keys lines and points\" + repr(dictionary))\n",
    "\n",
    "    tract_data = {}\n",
    "    tracts = []\n",
    "\n",
    "    lines = np.asarray(dictionary['lines']).squeeze()\n",
    "    points = dictionary['points']\n",
    "\n",
    "    actual_line_index = 0\n",
    "    number_of_tracts = dictionary['numberOfLines']\n",
    "    original_lines = []\n",
    "    for _ in range(number_of_tracts):\n",
    "        tracts.append(points[lines[actual_line_index + 1:actual_line_index + lines[actual_line_index] + 1]])\n",
    "        original_lines.append(\n",
    "            np.array(lines[actual_line_index + 1:actual_line_index + lines[actual_line_index] + 1], copy=True))\n",
    "        actual_line_index += lines[actual_line_index] + 1\n",
    "\n",
    "    if 'pointData' in dictionary:\n",
    "        point_data_keys = [it[0] for it in iteritems(dictionary['pointData']) if isinstance(it[1], np.ndarray)]\n",
    "\n",
    "        for k in point_data_keys:\n",
    "            array_data = dictionary['pointData'][k]\n",
    "            if k not in tract_data:\n",
    "                tract_data[k] = [array_data[f] for f in original_lines]\n",
    "            else:\n",
    "                np.vstack(tract_data[k])\n",
    "                tract_data[k].extend([array_data[f] for f in original_lines[-number_of_tracts:]])\n",
    "\n",
    "    return tracts, tract_data"
   ]
  },
  {
   "cell_type": "code",
   "execution_count": 4,
   "metadata": {},
   "outputs": [],
   "source": [
    "def get_hist(bundle, metric, affine):\n",
    "    def streamlines_mapvolume(streamlines, volume, affine):\n",
    "        mapping = values_from_volume(volume, streamlines, affine)\n",
    "        return mapping\n",
    "\n",
    "    scalar_measurement = streamlines_mapvolume(bundle, metric, affine)\n",
    "    scalar_measurement = [item for sublist in scalar_measurement for item in sublist]\n",
    "    return np.asarray(scalar_measurement)\n",
    "\n",
    "def get_length(bundle):\n",
    "    def _get_length(tract):\n",
    "        return ((((tract[1:] - tract[:-1]) ** 2).sum(1)) ** .5).sum()\n",
    "    tracts_lengths = [_get_length(s) for s in bundle]\n",
    "    return tracts_lengths"
   ]
  },
  {
   "cell_type": "code",
   "execution_count": 5,
   "metadata": {
    "scrolled": false
   },
   "outputs": [],
   "source": [
    "def save_distr(l5, s1, s2, s3, s4, FA, affine):\n",
    "    l5_series = pd.Series(get_hist(l5, FA, affine), name=\"L5\")\n",
    "    s1_series = pd.Series(get_hist(s1, FA, affine), name=\"S1\")\n",
    "    s2_series = pd.Series(get_hist(s2, FA, affine), name=\"S2\")\n",
    "    s3_series = pd.Series(get_hist(s3, FA, affine), name=\"S3\")\n",
    "    s4_series = pd.Series(get_hist(s4, FA, affine), name=\"S4\")\n",
    "    \n",
    "    frame = pd.DataFrame(\n",
    "        {'L5': l5_series,\n",
    "         'S1': s1_series,\n",
    "         'S2': s2_series,\n",
    "         'S3': s3_series,\n",
    "         'S4': s4_series\n",
    "        } \n",
    "    )\n",
    "  \n",
    "    frame.to_csv('/Users/imag2/Desktop/FA_1-4-02.csv')"
   ]
  },
  {
   "cell_type": "code",
   "execution_count": 6,
   "metadata": {},
   "outputs": [
    {
     "data": {
      "text/plain": [
       "\"\\nfor file in os.listdir(main_folder):\\n    current_path = os.path.join(main_folder, file)\\n    if '.vtk' in current_path.lower() and 'l5' in current_path.lower():\\n        l5 = read_vtk(current_path)[0]\\n    elif '.vtk' in current_path.lower() and 's1' in current_path.lower():\\n        s1 = read_vtk(current_path)[0]\\n    elif '.vtk' in current_path.lower() and 's2' in current_path.lower():\\n        s2 = read_vtk(current_path)[0]\\n    elif '.vtk' in current_path.lower() and 's3' in current_path.lower():\\n        s3 = read_vtk(current_path)[0]\\n    elif '.vtk' in current_path.lower() and 's4' in current_path.lower():\\n        s4 = read_vtk(current_path)[0]\\n    elif '.nii' in current_path.lower() and 'fa' in current_path.lower():\\n        FA, affine = load_nii(current_path)\\n        FA = (FA - np.amin(FA)) / (np.amax(FA) - np.amin(FA))\\n\\nsave_distr(l5, s1, s2, s3, s4, FA, affine)\\n\""
      ]
     },
     "execution_count": 6,
     "metadata": {},
     "output_type": "execute_result"
    }
   ],
   "source": [
    "'''\n",
    "for file in os.listdir(main_folder):\n",
    "    current_path = os.path.join(main_folder, file)\n",
    "    if '.vtk' in current_path.lower() and 'l5' in current_path.lower():\n",
    "        l5 = read_vtk(current_path)[0]\n",
    "    elif '.vtk' in current_path.lower() and 's1' in current_path.lower():\n",
    "        s1 = read_vtk(current_path)[0]\n",
    "    elif '.vtk' in current_path.lower() and 's2' in current_path.lower():\n",
    "        s2 = read_vtk(current_path)[0]\n",
    "    elif '.vtk' in current_path.lower() and 's3' in current_path.lower():\n",
    "        s3 = read_vtk(current_path)[0]\n",
    "    elif '.vtk' in current_path.lower() and 's4' in current_path.lower():\n",
    "        s4 = read_vtk(current_path)[0]\n",
    "    elif '.nii' in current_path.lower() and 'fa' in current_path.lower():\n",
    "        FA, affine = load_nii(current_path)\n",
    "        FA = (FA - np.amin(FA)) / (np.amax(FA) - np.amin(FA))\n",
    "\n",
    "save_distr(l5, s1, s2, s3, s4, FA, affine)\n",
    "'''"
   ]
  },
  {
   "cell_type": "code",
   "execution_count": 27,
   "metadata": {},
   "outputs": [
    {
     "name": "stderr",
     "output_type": "stream",
     "text": [
      "/Users/imag2/miniconda3/envs/IMAG2_Utilities/lib/python3.7/site-packages/ipykernel_launcher.py:10: DeprecationWarning: The default dtype for empty Series will be 'object' instead of 'float64' in a future version. Specify a dtype explicitly to silence this warning.\n",
      "  # Remove the CWD from sys.path while we load stuff.\n"
     ]
    },
    {
     "name": "stdout",
     "output_type": "stream",
     "text": [
      "None\n"
     ]
    }
   ],
   "source": [
    "df = pd.DataFrame()\n",
    "\n",
    "for dirs in os.listdir(main_folder):\n",
    "    name = dirs\n",
    "    current_dir = os.path.join(main_folder,dirs)\n",
    "    if os.path.isdir(current_dir):\n",
    "        for file in os.listdir(current_dir):\n",
    "            current_path = os.path.abspath(os.path.join(main_folder, current_dir, file))\n",
    "            if '.vtk' in current_path.lower() and 's4' in current_path.lower():\n",
    "                l5 = pd.Series(get_length(read_vtk(current_path)[0]))\n",
    "                #print(l5)\n",
    "                df[name] = l5\n",
    "\n",
    "print(df.to_csv('/Users/imag2/Desktop/S4.csv'))"
   ]
  },
  {
   "cell_type": "code",
   "execution_count": null,
   "metadata": {},
   "outputs": [],
   "source": []
  }
 ],
 "metadata": {
  "kernelspec": {
   "display_name": "PyCharm (IMAG2_Utilities)",
   "language": "python",
   "name": "pycharm-f5dcc817"
  },
  "language_info": {
   "codemirror_mode": {
    "name": "ipython",
    "version": 3
   },
   "file_extension": ".py",
   "mimetype": "text/x-python",
   "name": "python",
   "nbconvert_exporter": "python",
   "pygments_lexer": "ipython3",
   "version": "3.7.6"
  },
  "pycharm": {
   "stem_cell": {
    "cell_type": "raw",
    "metadata": {
     "collapsed": false
    },
    "source": []
   }
  }
 },
 "nbformat": 4,
 "nbformat_minor": 1
}
