{
 "cells": [
  {
   "cell_type": "code",
   "execution_count": 1,
   "metadata": {},
   "outputs": [],
   "source": [
    "import nibabel as nib\n",
    "import numpy\n",
    "import dipy\n",
    "import numpy as np\n",
    "import vtk\n",
    "from nibabel.affines import apply_affine\n",
    "import matplotlib.pyplot as plt\n",
    "from vtk.util import numpy_support as ns\n",
    "from six import iteritems\n",
    "from dipy.tracking.streamline import values_from_volume"
   ]
  },
  {
   "cell_type": "code",
   "execution_count": 2,
   "metadata": {},
   "outputs": [],
   "source": [
    "l5_path  = '/media/imag2/USBKEYTWO/1-4-29/1-4-29_170227_L5.vtk'\n",
    "s1_path  = '/media/imag2/USBKEYTWO/1-4-29/1-4-29_170227_S1.vtk'\n",
    "s2_path  = '/media/imag2/USBKEYTWO/1-4-29/1-4-29_170227_S2.vtk'\n",
    "s3_path  = '/media/imag2/USBKEYTWO/1-4-29/1-4-29_170227_S3.vtk'\n",
    "\n",
    "FA_path = '/media/imag2/USBKEYTWO/1-4-29/1-4-29_170227_VolumeFA.nii'"
   ]
  },
  {
   "cell_type": "code",
   "execution_count": 3,
   "metadata": {},
   "outputs": [],
   "source": [
    "def load_nii(fname):\n",
    "    img = nib.load(fname)\n",
    "    return img.get_fdata(), img.affine\n",
    "\n",
    "def read_vtk(filename):\n",
    "    if filename.endswith('xml') or filename.endswith('vtp'):\n",
    "        polydata_reader = vtk.vtkXMLPolyDataReader()\n",
    "    else:\n",
    "        polydata_reader = vtk.vtkPolyDataReader()\n",
    "\n",
    "    polydata_reader.SetFileName(filename)\n",
    "    polydata_reader.Update()\n",
    "\n",
    "    polydata = polydata_reader.GetOutput()\n",
    "\n",
    "    return vtkpolydata_to_tracts(polydata)\n",
    "\n",
    "\n",
    "def vtkpolydata_to_tracts(polydata):\n",
    "    result = {'lines': ns.vtk_to_numpy(polydata.GetLines().GetData()),\n",
    "              'points': ns.vtk_to_numpy(polydata.GetPoints().GetData()), 'numberOfLines': polydata.GetNumberOfLines()}\n",
    "\n",
    "    data = {}\n",
    "    if polydata.GetPointData().GetScalars():\n",
    "        data['ActiveScalars'] = polydata.GetPointData().GetScalars().GetName()\n",
    "    if polydata.GetPointData().GetVectors():\n",
    "        data['ActiveVectors'] = polydata.GetPointData().GetVectors().GetName()\n",
    "    if polydata.GetPointData().GetTensors():\n",
    "        data['ActiveTensors'] = polydata.GetPointData().GetTensors().GetName()\n",
    "\n",
    "    for i in range(polydata.GetPointData().GetNumberOfArrays()):\n",
    "        array = polydata.GetPointData().GetArray(i)\n",
    "        np_array = ns.vtk_to_numpy(array)\n",
    "        if np_array.ndim == 1:\n",
    "            np_array = np_array.reshape(len(np_array), 1)\n",
    "        data[polydata.GetPointData().GetArrayName(i)] = np_array\n",
    "\n",
    "    result['pointData'] = data\n",
    "\n",
    "    tracts, data = vtkpolydata_dictionary_to_tracts_and_data(result)\n",
    "    return tracts, data\n",
    "\n",
    "\n",
    "def vtkpolydata_dictionary_to_tracts_and_data(dictionary):\n",
    "    dictionary_keys = {'lines', 'points', 'numberOfLines'}\n",
    "    if not dictionary_keys.issubset(dictionary):\n",
    "        raise ValueError(\"Dictionary must have the keys lines and points\" + repr(dictionary))\n",
    "\n",
    "    tract_data = {}\n",
    "    tracts = []\n",
    "\n",
    "    lines = np.asarray(dictionary['lines']).squeeze()\n",
    "    points = dictionary['points']\n",
    "\n",
    "    actual_line_index = 0\n",
    "    number_of_tracts = dictionary['numberOfLines']\n",
    "    original_lines = []\n",
    "    for _ in range(number_of_tracts):\n",
    "        tracts.append(points[lines[actual_line_index + 1:actual_line_index + lines[actual_line_index] + 1]])\n",
    "        original_lines.append(\n",
    "            np.array(lines[actual_line_index + 1:actual_line_index + lines[actual_line_index] + 1], copy=True))\n",
    "        actual_line_index += lines[actual_line_index] + 1\n",
    "\n",
    "    if 'pointData' in dictionary:\n",
    "        point_data_keys = [it[0] for it in iteritems(dictionary['pointData']) if isinstance(it[1], np.ndarray)]\n",
    "\n",
    "        for k in point_data_keys:\n",
    "            array_data = dictionary['pointData'][k]\n",
    "            if k not in tract_data:\n",
    "                tract_data[k] = [array_data[f] for f in original_lines]\n",
    "            else:\n",
    "                np.vstack(tract_data[k])\n",
    "                tract_data[k].extend([array_data[f] for f in original_lines[-number_of_tracts:]])\n",
    "\n",
    "    return tracts, tract_data"
   ]
  },
  {
   "cell_type": "code",
   "execution_count": 4,
   "metadata": {},
   "outputs": [],
   "source": [
    "FA, affine = load_nii(FA_path)\n",
    "l5 = read_vtk(l5_path)[0]\n",
    "s1 = read_vtk(s1_path)[0]\n",
    "s2 = read_vtk(s2_path)[0]\n",
    "s3 = read_vtk(s3_path)[0]\n",
    "\n",
    "FA = (FA - np.amin(FA)) / (np.amax(FA) - np.amin(FA))"
   ]
  },
  {
   "cell_type": "code",
   "execution_count": 5,
   "metadata": {},
   "outputs": [],
   "source": [
    "def get_hist(bundle):\n",
    "    def streamlines_mapvolume(streamlines, volume, affine):\n",
    "        #inverse = np.linalg.inv(affine)\n",
    "        #streamlines = [apply_affine(inverse, np.array(s)) for s in streamlines]\n",
    "        mapping = values_from_volume(volume, streamlines, affine)\n",
    "        return mapping\n",
    "\n",
    "    scalar_measurement = streamlines_mapvolume(bundle, FA, affine)\n",
    "    scalar_measurement = [item for sublist in scalar_measurement for item in sublist]\n",
    "    return np.asarray(scalar_measurement)\n"
   ]
  },
  {
   "cell_type": "code",
   "execution_count": 6,
   "metadata": {},
   "outputs": [
    {
     "data": {
      "image/png": "[encoded data removed]",
      "text/plain": [
       "<Figure size 432x288 with 1 Axes>"
      ]
     },
     "metadata": {
      "needs_background": "light"
     },
     "output_type": "display_data"
    }
   ],
   "source": [
    "_ = plt.hist(get_hist(l5), histtype = 'step', bins=200)\n",
    "plt.show()"
   ]
  },
  {
   "cell_type": "code",
   "execution_count": null,
   "outputs": [],
   "source": [
    "_ = plt.hist(get_hist(s1), histtype = 'step', bins=200)\n",
    "plt.show()"
   ],
   "metadata": {
    "collapsed": false,
    "pycharm": {
     "name": "#%%\n"
    }
   }
  },
  {
   "cell_type": "code",
   "execution_count": null,
   "outputs": [],
   "source": [
    "plt.hist(get_hist(s2), histtype = 'step', bins=200)\n",
    "plt.show()"
   ],
   "metadata": {
    "collapsed": false,
    "pycharm": {
     "name": "#%%\n"
    }
   }
  },
  {
   "cell_type": "code",
   "execution_count": 7,
   "metadata": {},
   "outputs": [
    {
     "data": {
      "image/png": "[encoded data removed]",
      "text/plain": [
       "<Figure size 432x288 with 1 Axes>"
      ]
     },
     "metadata": {
      "needs_background": "light"
     },
     "output_type": "display_data"
    }
   ],
   "source": []
  },
  {
   "cell_type": "code",
   "execution_count": 8,
   "metadata": {},
   "outputs": [
    {
     "data": {
      "image/png": "[encoded data removed]",
      "text/plain": [
       "<Figure size 432x288 with 1 Axes>"
      ]
     },
     "metadata": {
      "needs_background": "light"
     },
     "output_type": "display_data"
    }
   ],
   "source": [
    "plt.hist(get_hist(s2), histtype = 'step', bins=200)\n",
    "plt.show()"
   ]
  },
  {
   "cell_type": "code",
   "execution_count": null,
   "metadata": {},
   "outputs": [],
   "source": []
  }
 ],
 "metadata": {
  "kernelspec": {
   "display_name": "Python 3",
   "language": "python",
   "name": "python3"
  },
  "language_info": {
   "codemirror_mode": {
    "name": "ipython",
    "version": 3
   },
   "file_extension": ".py",
   "mimetype": "text/x-python",
   "name": "python",
   "nbconvert_exporter": "python",
   "pygments_lexer": "ipython3",
   "version": "3.7.7"
  },
  "pycharm": {
   "stem_cell": {
    "cell_type": "raw",
    "source": [],
    "metadata": {
     "collapsed": false
    }
   }
  }
 },
 "nbformat": 4,
 "nbformat_minor": 1
}