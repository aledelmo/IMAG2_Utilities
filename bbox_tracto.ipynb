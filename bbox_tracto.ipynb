{
 "cells": [
  {
   "cell_type": "code",
   "execution_count": 1,
   "metadata": {
    "pycharm": {
     "is_executing": true
    }
   },
   "outputs": [],
   "source": [
    "%load_ext autoreload\n",
    "%autoreload 2\n",
    "\n",
    "import os\n",
    "import sys\n",
    "\n",
    "\n",
    "from IPython.core.interactiveshell import InteractiveShell\n",
    "InteractiveShell.ast_node_interactivity = \"all\"\n",
    "\n",
    "import logging\n",
    "logging.basicConfig(level=logging.INFO, stream=sys.stdout)\n",
    "\n",
    "import vtk\n",
    "import numpy as np\n",
    "import nibabel as nib\n",
    "from six import iteritems\n",
    "from scipy.stats import norm\n",
    "from nibabel.affines import apply_affine\n",
    "from vtk.util import numpy_support as ns\n",
    "from dipy.tracking.streamline import values_from_volume\n",
    "from dipy.tracking.metrics import winding"
   ]
  },
  {
   "cell_type": "code",
   "execution_count": 2,
   "metadata": {},
   "outputs": [],
   "source": [
    "main_folder = '/Users/imag2/Dropbox/IMAG2/MAR'\n",
    "dirs = os.listdir(main_folder)"
   ]
  },
  {
   "cell_type": "code",
   "execution_count": 3,
   "metadata": {},
   "outputs": [],
   "source": [
    "def load_nii(fname):\n",
    "    img = nib.load(fname)\n",
    "    img = nib.as_closest_canonical(img)\n",
    "    return img.get_fdata(), img.affine, img.header.get_zooms()"
   ]
  },
  {
   "cell_type": "code",
   "execution_count": 9,
   "metadata": {
    "scrolled": false
   },
   "outputs": [
    {
     "name": "stdout",
     "output_type": "stream",
     "text": [
      "/Users/imag2/Dropbox/IMAG2/MAR/1-4-51/test.nii.gz\n",
      "/Users/imag2/Dropbox/IMAG2/MAR/1-4-56/test.nii.gz\n",
      "/Users/imag2/Dropbox/IMAG2/MAR/1-4-33/test.nii.gz\n",
      "/Users/imag2/Dropbox/IMAG2/MAR/1-4-05/test.nii.gz\n",
      "/Users/imag2/Dropbox/IMAG2/MAR/1-4-57/test.nii.gz\n",
      "/Users/imag2/Dropbox/IMAG2/MAR/1-4-03/test.nii.gz\n",
      "/Users/imag2/Dropbox/IMAG2/MAR/1-4-27_170213/test.nii.gz\n",
      "/Users/imag2/Dropbox/IMAG2/MAR/1-4-26/test.nii.gz\n",
      "/Users/imag2/Dropbox/IMAG2/MAR/1-4-19/test.nii.gz\n",
      "/Users/imag2/Dropbox/IMAG2/MAR/1-4-44/test.nii.gz\n",
      "/Users/imag2/Dropbox/IMAG2/MAR/1-4-16/test.nii.gz\n",
      "/Users/imag2/Dropbox/IMAG2/MAR/1-4-11/test.nii.gz\n",
      "/Users/imag2/Dropbox/IMAG2/MAR/1-4-22_2016/test.nii.gz\n",
      "/Users/imag2/Dropbox/IMAG2/MAR/1-4-21_161107/test.nii.gz\n",
      "/Users/imag2/Dropbox/IMAG2/MAR/1-4-04_160425/test.nii.gz\n",
      "/Users/imag2/Dropbox/IMAG2/MAR/1-4-45_190506/test.nii.gz\n",
      "/Users/imag2/Dropbox/IMAG2/MAR/1-4-45_180312/test.nii.gz\n",
      "/Users/imag2/Dropbox/IMAG2/MAR/1-4-29_170227/test.nii.gz\n",
      "/Users/imag2/Dropbox/IMAG2/MAR/1-4-37/test.nii.gz\n",
      "/Users/imag2/Dropbox/IMAG2/MAR/1-4-06/test.nii.gz\n",
      "/Users/imag2/Dropbox/IMAG2/MAR/1-4-55/test.nii.gz\n",
      "/Users/imag2/Dropbox/IMAG2/MAR/1-4-52/test.nii.gz\n",
      "/Users/imag2/Dropbox/IMAG2/MAR/1-4-64/test.nii.gz\n",
      "/Users/imag2/Dropbox/IMAG2/MAR/1-4-38/test.nii.gz\n",
      "/Users/imag2/Dropbox/IMAG2/MAR/1-4-07/test.nii.gz\n",
      "/Users/imag2/Dropbox/IMAG2/MAR/1-4-49/test.nii.gz\n",
      "/Users/imag2/Dropbox/IMAG2/MAR/1-4-20_161017/test.nii.gz\n",
      "/Users/imag2/Dropbox/IMAG2/MAR/1-4-41/test.nii.gz\n",
      "/Users/imag2/Dropbox/IMAG2/MAR/1-4-48/test.nii.gz\n",
      "29\n"
     ]
    }
   ],
   "source": [
    "i = 0\n",
    "for current_dir in dirs:\n",
    "    if os.path.isdir(os.path.join(main_folder,current_dir)):\n",
    "        for file in os.listdir(os.path.join(main_folder,current_dir)):\n",
    "            if 'segmentation' in file.lower() and '.nii.gz' in file.lower():\n",
    "                seg, affine, zooms = load_nii(os.path.join(main_folder,current_dir, file))\n",
    "                new_seg = np.zeros(seg.shape, dtype = np.bool)\n",
    "                new_seg[seg==10] = True\n",
    "                new_seg[seg==14] = True\n",
    "                new_seg[seg==5] = True\n",
    "                idx = np.array(np.where(new_seg==True)).T\n",
    "                idx_min = np.max(idx, axis = 0)\n",
    "                new_seg[:,:, :idx_min[2]]= True\n",
    "                new_seg[:,:, idx_min[2]:]= False\n",
    "                img = nib.Nifti1Image(new_seg.astype(np.int16), affine)\n",
    "                nib.save(img, os.path.join(main_folder,current_dir, 'test.nii.gz'))\n",
    "                print(os.path.join(main_folder,current_dir, 'test.nii.gz'))\n",
    "                i+=1\n",
    "print(i)\n"
   ]
  },
  {
   "cell_type": "code",
   "execution_count": null,
   "metadata": {},
   "outputs": [],
   "source": []
  }
 ],
 "metadata": {
  "kernelspec": {
   "display_name": "PyCharm (IMAG2_Utilities)",
   "language": "python",
   "name": "pycharm-f5dcc817"
  },
  "language_info": {
   "codemirror_mode": {
    "name": "ipython",
    "version": 3
   },
   "file_extension": ".py",
   "mimetype": "text/x-python",
   "name": "python",
   "nbconvert_exporter": "python",
   "pygments_lexer": "ipython3",
   "version": "3.7.6"
  },
  "pycharm": {
   "stem_cell": {
    "cell_type": "raw",
    "metadata": {
     "collapsed": false
    },
    "source": []
   }
  }
 },
 "nbformat": 4,
 "nbformat_minor": 1
}
