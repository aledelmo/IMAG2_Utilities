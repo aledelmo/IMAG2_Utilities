{
 "cells": [
  {
   "cell_type": "code",
   "execution_count": 1,
   "metadata": {
    "pycharm": {
     "is_executing": true
    }
   },
   "outputs": [],
   "source": [
    "%load_ext autoreload\n",
    "%autoreload 2\n",
    "\n",
    "import os\n",
    "import sys\n",
    "\n",
    "import pandas as pd\n",
    "pd.set_option(\"display.max_rows\", 120)\n",
    "pd.set_option(\"display.max_columns\", 120)\n",
    "\n",
    "import seaborn as sns\n",
    "sns.set_context('notebook')\n",
    "sns.set(style=\"whitegrid\", font_scale=1.5)\n",
    "sns.despine()\n",
    "sns.set_color_codes()\n",
    "\n",
    "import matplotlib.pyplot as plt\n",
    "plt.xlim(0, 1)\n",
    "plt.ylim(0, None)\n",
    "from matplotlib.ticker import MaxNLocator\n",
    "%matplotlib inline\n",
    "%config InlineBackend.figure_format = 'retina'\n",
    "plt.rcParams['figure.figsize'] = [20, 5]\n",
    "\n",
    "from IPython.core.interactiveshell import InteractiveShell\n",
    "InteractiveShell.ast_node_interactivity = \"all\"\n",
    "\n",
    "import logging\n",
    "logging.basicConfig(level=logging.INFO, stream=sys.stdout)\n",
    "\n",
    "import json\n",
    "import vtk\n",
    "import numpy as np\n",
    "import nibabel as nib\n",
    "from six import iteritems\n",
    "from scipy.stats import norm\n",
    "from nibabel.affines import apply_affine\n",
    "from vtk.util import numpy_support as ns\n",
    "from dipy.tracking.streamline import values_from_volume\n",
    "from dipy.tracking.metrics import winding"
   ]
  },
  {
   "cell_type": "code",
   "execution_count": 2,
   "metadata": {},
   "outputs": [],
   "source": [
    "main_folder = '/Volumes/LaCieThree/MAR/'\n",
    "dirs = os.listdir(main_folder)"
   ]
  },
  {
   "cell_type": "code",
   "execution_count": 3,
   "metadata": {},
   "outputs": [],
   "source": [
    "def load_nii(fname):\n",
    "    img = nib.load(fname)\n",
    "    return img.get_fdata(), img.affine, img.header.get_zooms()\n",
    "\n",
    "def read_vtk(filename):\n",
    "    if filename.endswith('xml') or filename.endswith('vtp'):\n",
    "        polydata_reader = vtk.vtkXMLPolyDataReader()\n",
    "    else:\n",
    "        polydata_reader = vtk.vtkPolyDataReader()\n",
    "\n",
    "    polydata_reader.SetFileName(filename)\n",
    "    polydata_reader.Update()\n",
    "\n",
    "    polydata = polydata_reader.GetOutput()\n",
    "\n",
    "    return vtkpolydata_to_tracts(polydata)\n",
    "\n",
    "def vtkpolydata_to_tracts(polydata):\n",
    "    result = {'lines': ns.vtk_to_numpy(polydata.GetLines().GetData()),\n",
    "              'points': ns.vtk_to_numpy(polydata.GetPoints().GetData()),\n",
    "              'numberOfLines': polydata.GetNumberOfLines()\n",
    "             }\n",
    "\n",
    "    data = {}\n",
    "    if polydata.GetPointData().GetScalars():\n",
    "        data['ActiveScalars'] = polydata.GetPointData().GetScalars().GetName()\n",
    "    if polydata.GetPointData().GetVectors():\n",
    "        data['ActiveVectors'] = polydata.GetPointData().GetVectors().GetName()\n",
    "    if polydata.GetPointData().GetTensors():\n",
    "        data['ActiveTensors'] = polydata.GetPointData().GetTensors().GetName()\n",
    "\n",
    "    for i in range(polydata.GetPointData().GetNumberOfArrays()):\n",
    "        array = polydata.GetPointData().GetArray(i)\n",
    "        np_array = ns.vtk_to_numpy(array)\n",
    "        if np_array.ndim == 1:\n",
    "            np_array = np_array.reshape(len(np_array), 1)\n",
    "        data[polydata.GetPointData().GetArrayName(i)] = np_array\n",
    "\n",
    "    result['pointData'] = data\n",
    "\n",
    "    tracts, data = vtkpolydata_dictionary_to_tracts_and_data(result)\n",
    "    return tracts, data\n",
    "\n",
    "def vtkpolydata_dictionary_to_tracts_and_data(dictionary):\n",
    "    dictionary_keys = {'lines', 'points', 'numberOfLines'}\n",
    "    if not dictionary_keys.issubset(dictionary):\n",
    "        raise ValueError(\"Dictionary must have the keys lines and points\" + repr(dictionary))\n",
    "\n",
    "    tract_data = {}\n",
    "    tracts = []\n",
    "\n",
    "    lines = np.asarray(dictionary['lines']).squeeze()\n",
    "    points = dictionary['points']\n",
    "\n",
    "    actual_line_index = 0\n",
    "    number_of_tracts = dictionary['numberOfLines']\n",
    "    original_lines = []\n",
    "    for _ in range(number_of_tracts):\n",
    "        tracts.append(points[lines[actual_line_index + 1:actual_line_index + lines[actual_line_index] + 1]])\n",
    "        original_lines.append(\n",
    "            np.array(lines[actual_line_index + 1:actual_line_index + lines[actual_line_index] + 1], copy=True))\n",
    "        actual_line_index += lines[actual_line_index] + 1\n",
    "\n",
    "    if 'pointData' in dictionary:\n",
    "        point_data_keys = [it[0] for it in iteritems(dictionary['pointData']) if isinstance(it[1], np.ndarray)]\n",
    "\n",
    "        for k in point_data_keys:\n",
    "            array_data = dictionary['pointData'][k]\n",
    "            if k not in tract_data:\n",
    "                tract_data[k] = [array_data[f] for f in original_lines]\n",
    "            else:\n",
    "                np.vstack(tract_data[k])\n",
    "                tract_data[k].extend([array_data[f] for f in original_lines[-number_of_tracts:]])\n",
    "\n",
    "    return tracts, tract_data"
   ]
  },
  {
   "cell_type": "code",
   "execution_count": 4,
   "metadata": {},
   "outputs": [],
   "source": [
    "def get_volume(streamlines, shapes, affine, dims):\n",
    "    if streamlines:\n",
    "        new_vol = np.zeros(shapes)\n",
    "        inverse = np.linalg.inv(affine)\n",
    "        flat = []\n",
    "        for s in streamlines:\n",
    "            flat += apply_affine(inverse, np.array(s)).astype(np.int16).tolist()\n",
    "        return(np.prod(dims) * len(np.unique(np.asarray(flat), axis = 0)))\n",
    "    "
   ]
  },
  {
   "cell_type": "code",
   "execution_count": 5,
   "metadata": {
    "scrolled": false
   },
   "outputs": [
    {
     "name": "stdout",
     "output_type": "stream",
     "text": [
      "/Volumes/LaCieThree/MAR/volumes_cut.json\n"
     ]
    }
   ],
   "source": [
    "volumes = {}\n",
    "for current_dir in dirs:\n",
    "    if os.path.isdir(os.path.join(main_folder,current_dir)):\n",
    "        volumes[current_dir] = {}\n",
    "        l5 = None\n",
    "        s1 = None\n",
    "        s2 = None\n",
    "        s3 = None\n",
    "        s4 = None\n",
    "        for file in os.listdir(os.path.join(main_folder,current_dir)):\n",
    "            current_path = os.path.abspath(os.path.join(main_folder, current_dir, file))\n",
    "            if not file.startswith('.') and '.vtk' in file.lower() and 'cut' in file.lower():\n",
    "                if 'l5' in current_path.lower():\n",
    "                    l5 = read_vtk(current_path)[0]\n",
    "                elif 's1' in current_path.lower():\n",
    "                    s1 = read_vtk(current_path)[0]\n",
    "                elif 's2' in current_path.lower():\n",
    "                    s2 = read_vtk(current_path)[0]\n",
    "                elif 's3' in current_path.lower():\n",
    "                    s3 = read_vtk(current_path)[0]\n",
    "                elif  's4' in current_path.lower():\n",
    "                    s4 = read_vtk(current_path)[0]\n",
    "            if not file.startswith('.'):\n",
    "                if '.nii' in current_path.lower() and 'bzero' in current_path.lower():\n",
    "                    coro, affine, dims = load_nii(current_path)\n",
    "        try:\n",
    "            volumes[current_dir]['L5'] = get_volume(l5, coro.shape, affine, dims)\n",
    "            volumes[current_dir]['S1'] = get_volume(s1, coro.shape, affine, dims)\n",
    "            volumes[current_dir]['S2'] = get_volume(s2, coro.shape, affine, dims)\n",
    "            volumes[current_dir]['S3'] = get_volume(s3, coro.shape, affine, dims)\n",
    "            volumes[current_dir]['S4'] = get_volume(s4, coro.shape, affine, dims)\n",
    "        except:\n",
    "            pass\n",
    "\n",
    "with open(os.path.join(main_folder, 'volumes_cut.json'), 'w') as fp:\n",
    "    print(os.path.join(main_folder, 'volumes_cut.json'))\n",
    "    json.dump(volumes, fp)"
   ]
  },
  {
   "cell_type": "code",
   "execution_count": null,
   "metadata": {},
   "outputs": [],
   "source": []
  }
 ],
 "metadata": {
  "kernelspec": {
   "display_name": "PyCharm (IMAG2_Utilities)",
   "language": "python",
   "name": "pycharm-f5dcc817"
  },
  "language_info": {
   "codemirror_mode": {
    "name": "ipython",
    "version": 3
   },
   "file_extension": ".py",
   "mimetype": "text/x-python",
   "name": "python",
   "nbconvert_exporter": "python",
   "pygments_lexer": "ipython3",
   "version": "3.7.6"
  },
  "pycharm": {
   "stem_cell": {
    "cell_type": "raw",
    "metadata": {
     "collapsed": false
    },
    "source": []
   }
  }
 },
 "nbformat": 4,
 "nbformat_minor": 1
}
