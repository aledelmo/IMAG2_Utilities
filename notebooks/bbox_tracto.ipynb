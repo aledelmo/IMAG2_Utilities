{
 "cells": [
  {
   "cell_type": "code",
   "execution_count": 1,
   "metadata": {
    "pycharm": {
     "is_executing": true
    }
   },
   "outputs": [],
   "source": [
    "%load_ext autoreload\n",
    "%autoreload 2\n",
    "\n",
    "import os\n",
    "import sys\n",
    "\n",
    "\n",
    "from IPython.core.interactiveshell import InteractiveShell\n",
    "InteractiveShell.ast_node_interactivity = \"all\"\n",
    "\n",
    "import logging\n",
    "logging.basicConfig(level=logging.INFO, stream=sys.stdout)\n",
    "\n",
    "import vtk\n",
    "import numpy as np\n",
    "import nibabel as nib\n",
    "from six import iteritems\n",
    "from scipy.stats import norm\n",
    "from nibabel.affines import apply_affine\n",
    "from vtk.util import numpy_support as ns\n",
    "from dipy.tracking.streamline import values_from_volume\n",
    "from dipy.tracking.metrics import winding"
   ]
  },
  {
   "cell_type": "code",
   "execution_count": 2,
   "metadata": {},
   "outputs": [],
   "source": [
    "main_folder = '/Volumes/LaCieThree/Currarino'\n",
    "dirs = os.listdir(main_folder)"
   ]
  },
  {
   "cell_type": "code",
   "execution_count": 3,
   "metadata": {},
   "outputs": [],
   "source": [
    "def load_nii(fname):\n",
    "    img = nib.load(fname)\n",
    "    img = nib.as_closest_canonical(img)\n",
    "    return img.get_fdata(), img.affine, img.header.get_zooms()"
   ]
  },
  {
   "cell_type": "code",
   "execution_count": 4,
   "metadata": {
    "scrolled": false
   },
   "outputs": [
    {
     "name": "stdout",
     "output_type": "stream",
     "text": [
      "/Volumes/LaCieThree/Currarino/1-2-08/test.nii.gz\n",
      "/Volumes/LaCieThree/Currarino/1-2-29/test.nii.gz\n",
      "/Volumes/LaCieThree/Currarino/1-4-07/test.nii.gz\n",
      "3\n"
     ]
    }
   ],
   "source": [
    "i = 0\n",
    "for current_dir in dirs:\n",
    "    if os.path.isdir(os.path.join(main_folder,current_dir)):\n",
    "        for file in os.listdir(os.path.join(main_folder,current_dir)):\n",
    "            if 'segmentation' in file.lower() and '.nii.gz' in file.lower() and not file.startswith('.'):\n",
    "                seg, affine, zooms = load_nii(os.path.join(main_folder,current_dir, file))\n",
    "                new_seg = np.zeros(seg.shape, dtype = np.bool)\n",
    "                new_seg[seg==10] = True\n",
    "                new_seg[seg==14] = True\n",
    "                new_seg[seg==5] = True\n",
    "                idx = np.array(np.where(new_seg==True)).T\n",
    "                idx_min = np.max(idx, axis = 0)\n",
    "                new_seg[:,:, :idx_min[2]]= True\n",
    "                new_seg[:,:, idx_min[2]:]= False\n",
    "                img = nib.Nifti1Image(new_seg.astype(np.int16), affine)\n",
    "                nib.save(img, os.path.join(main_folder,current_dir, 'test.nii.gz'))\n",
    "                print(os.path.join(main_folder,current_dir, 'test.nii.gz'))\n",
    "                i+=1\n",
    "print(i)\n"
   ]
  },
  {
   "cell_type": "markdown",
   "metadata": {},
   "source": [
    "### Box IschialSpine - Vertebre"
   ]
  },
  {
   "cell_type": "code",
   "execution_count": 23,
   "metadata": {},
   "outputs": [
    {
     "name": "stdout",
     "output_type": "stream",
     "text": [
      "/Volumes/LaCieThree/MAR/1-4-51/box.nii.gz\n",
      "/Volumes/LaCieThree/MAR/1-4-56/box.nii.gz\n",
      "/Volumes/LaCieThree/MAR/1-4-33/box.nii.gz\n",
      "/Volumes/LaCieThree/MAR/1-4-05/box.nii.gz\n",
      "/Volumes/LaCieThree/MAR/1-4-57/box.nii.gz\n",
      "/Volumes/LaCieThree/MAR/1-4-03/box.nii.gz\n",
      "/Volumes/LaCieThree/MAR/1-4-27_170213/box.nii.gz\n",
      "/Volumes/LaCieThree/MAR/1-4-26/box.nii.gz\n",
      "/Volumes/LaCieThree/MAR/1-4-19/box.nii.gz\n",
      "/Volumes/LaCieThree/MAR/1-4-44/box.nii.gz\n",
      "/Volumes/LaCieThree/MAR/1-4-16/box.nii.gz\n",
      "/Volumes/LaCieThree/MAR/1-4-11/box.nii.gz\n",
      "/Volumes/LaCieThree/MAR/1-4-22_2016/box.nii.gz\n",
      "/Volumes/LaCieThree/MAR/1-4-21_161107/box.nii.gz\n",
      "/Volumes/LaCieThree/MAR/1-4-04_160425/box.nii.gz\n",
      "/Volumes/LaCieThree/MAR/1-4-45_190506/box.nii.gz\n",
      "/Volumes/LaCieThree/MAR/1-4-45_180312/box.nii.gz\n",
      "/Volumes/LaCieThree/MAR/1-4-29_170227/box.nii.gz\n",
      "/Volumes/LaCieThree/MAR/1-4-37/box.nii.gz\n",
      "/Volumes/LaCieThree/MAR/1-4-06/box.nii.gz\n",
      "/Volumes/LaCieThree/MAR/1-4-55/box.nii.gz\n",
      "/Volumes/LaCieThree/MAR/1-4-52/box.nii.gz\n",
      "/Volumes/LaCieThree/MAR/1-4-64/box.nii.gz\n",
      "/Volumes/LaCieThree/MAR/1-4-38/box.nii.gz\n",
      "/Volumes/LaCieThree/MAR/1-4-07/box.nii.gz\n",
      "/Volumes/LaCieThree/MAR/1-4-49/box.nii.gz\n",
      "/Volumes/LaCieThree/MAR/1-4-20_161017/box.nii.gz\n",
      "/Volumes/LaCieThree/MAR/1-4-41/box.nii.gz\n",
      "/Volumes/LaCieThree/MAR/1-4-48/box.nii.gz\n",
      "29\n"
     ]
    }
   ],
   "source": [
    "i = 0\n",
    "for current_dir in dirs:\n",
    "    if os.path.isdir(os.path.join(main_folder,current_dir)):\n",
    "        for file in os.listdir(os.path.join(main_folder,current_dir)):\n",
    "            if 'segmentation' in file.lower() and '.nii.gz' in file.lower() and not file.startswith('.'):\n",
    "                seg, affine, zooms = load_nii(os.path.join(main_folder,current_dir, file))\n",
    "                \n",
    "                bones = np.zeros(seg.shape, dtype = np.uint8)\n",
    "                bones[seg==10] = 1\n",
    "                bones[seg==14] = 1\n",
    "                idx_bones = np.array(np.where(bones==1))\n",
    "                \n",
    "                ver = np.zeros(seg.shape, dtype = np.uint8)\n",
    "                ver[seg==5] = 1\n",
    "                idx_ver = np.array(np.where(ver==1))\n",
    "                \n",
    "                spine = np.zeros(seg.shape, dtype = np.uint8)\n",
    "                spine[seg==28] = 1\n",
    "                spine[seg==29] = 1\n",
    "                spine[seg==30] = 1\n",
    "                idx_spine = np.array(np.where(spine==1))\n",
    "                \n",
    "                sl_x = slice(np.min(idx_bones[0]), np.max(idx_bones[0]))\n",
    "                sl_y = slice(np.min(idx_bones[1]), np.max(idx_bones[1]))\n",
    "                sl_z = slice(np.min(idx_spine[2]), np.max(idx_ver[2]))\n",
    "\n",
    "                seg_to_save = np.zeros(seg.shape, dtype = np.uint8)\n",
    "                seg_to_save[sl_x, sl_y, sl_z] = 1\n",
    "                \n",
    "                \n",
    "                img = nib.Nifti1Image(seg_to_save.astype(np.int16), affine)\n",
    "                nib.save(img, os.path.join(main_folder,current_dir, 'box.nii.gz'))\n",
    "                print(os.path.join(main_folder,current_dir, 'box.nii.gz'))\n",
    "                i+=1\n",
    "print(i)"
   ]
  },
  {
   "cell_type": "code",
   "execution_count": null,
   "metadata": {},
   "outputs": [],
   "source": []
  }
 ],
 "metadata": {
  "kernelspec": {
   "display_name": "PyCharm (IMAG2_Utilities)",
   "language": "python",
   "name": "pycharm-f5dcc817"
  },
  "language_info": {
   "codemirror_mode": {
    "name": "ipython",
    "version": 3
   },
   "file_extension": ".py",
   "mimetype": "text/x-python",
   "name": "python",
   "nbconvert_exporter": "python",
   "pygments_lexer": "ipython3",
   "version": "3.7.6"
  },
  "pycharm": {
   "stem_cell": {
    "cell_type": "raw",
    "metadata": {
     "collapsed": false
    },
    "source": []
   }
  }
 },
 "nbformat": 4,
 "nbformat_minor": 1
}
